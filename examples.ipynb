{
 "cells": [
  {
   "cell_type": "markdown",
   "metadata": {},
   "source": [
    "## Training Models\n",
    "- Variations\n",
    "    - To train without augmentations, pass test=True (data isn't augmented at test time)\n",
    "    - To train without Fourier downsampling, pass fourier=False\n",
    "        - With IIR downsampling, the d_in becomes 1 instead of 3, seq_len becomes 400 instead of 40.\n",
    "        - Will also have to decrease batch size and model size due to needing to load more data onto CUDA\n",
    "- Pretraining\n",
    "    - To pretrain an encoder using predictive pretraining, use the TransformerModel_mask object, pass mask=True into the Dataset, and call pretrain_model() from mask_pretrain.py\n",
    "    - To pretrain an encoder using contrastic pretraining, use the TransformerModel_triplet object, and call pretrain_model() from triplet_pretrain.py\n",
    "    - Hyperparameters, Data augmentations and Fourier downsampling can be experimented with\n",
    "\n",
    "Can also modify runner.py with these variations"
   ]
  },
  {
   "cell_type": "markdown",
   "metadata": {},
   "source": [
    "### End-to-end Training"
   ]
  },
  {
   "cell_type": "code",
   "execution_count": 1,
   "metadata": {},
   "outputs": [
    {
     "name": "stderr",
     "output_type": "stream",
     "text": [
      "/home/cmu/anaconda3/envs/fault/lib/python3.9/site-packages/tqdm/auto.py:21: TqdmWarning: IProgress not found. Please update jupyter and ipywidgets. See https://ipywidgets.readthedocs.io/en/stable/user_install.html\n",
      "  from .autonotebook import tqdm as notebook_tqdm\n",
      "Training Epoch [1/11000]: 100%|██████████| 3/3 [00:02<00:00,  1.20it/s]\n",
      "Validation Epoch [1/11000]: 100%|██████████| 1/1 [00:00<00:00, 11.65it/s]\n"
     ]
    },
    {
     "name": "stdout",
     "output_type": "stream",
     "text": [
      "-----------------------------------------------------------------------------------------\n",
      "training loss 0.0034 | valid loss 0.0045\n",
      "training accuracy 0.1031 | validation accuracy 0.1018\n",
      "-----------------------------------------------------------------------------------------\n"
     ]
    },
    {
     "name": "stderr",
     "output_type": "stream",
     "text": [
      "Training Epoch [2/11000]: 100%|██████████| 3/3 [00:02<00:00,  1.47it/s]\n",
      "Validation Epoch [2/11000]: 100%|██████████| 1/1 [00:00<00:00, 11.21it/s]\n"
     ]
    },
    {
     "name": "stdout",
     "output_type": "stream",
     "text": [
      "-----------------------------------------------------------------------------------------\n",
      "training loss 0.0033 | valid loss 0.0045\n",
      "training accuracy 0.1076 | validation accuracy 0.1018\n",
      "-----------------------------------------------------------------------------------------\n"
     ]
    },
    {
     "name": "stderr",
     "output_type": "stream",
     "text": [
      "Training Epoch [3/11000]: 100%|██████████| 3/3 [00:02<00:00,  1.45it/s]\n",
      "Validation Epoch [3/11000]: 100%|██████████| 1/1 [00:00<00:00, 11.73it/s]\n"
     ]
    },
    {
     "name": "stdout",
     "output_type": "stream",
     "text": [
      "-----------------------------------------------------------------------------------------\n",
      "training loss 0.0033 | valid loss 0.0045\n",
      "training accuracy 0.1009 | validation accuracy 0.1036\n",
      "-----------------------------------------------------------------------------------------\n"
     ]
    },
    {
     "name": "stderr",
     "output_type": "stream",
     "text": [
      "Training Epoch [4/11000]: 100%|██████████| 3/3 [00:02<00:00,  1.47it/s]\n",
      "Validation Epoch [4/11000]: 100%|██████████| 1/1 [00:00<00:00, 11.81it/s]\n"
     ]
    },
    {
     "name": "stdout",
     "output_type": "stream",
     "text": [
      "-----------------------------------------------------------------------------------------\n",
      "training loss 0.0033 | valid loss 0.0044\n",
      "training accuracy 0.1013 | validation accuracy 0.1071\n",
      "-----------------------------------------------------------------------------------------\n"
     ]
    },
    {
     "name": "stderr",
     "output_type": "stream",
     "text": [
      "Training Epoch [5/11000]: 100%|██████████| 3/3 [00:02<00:00,  1.46it/s]\n",
      "Validation Epoch [5/11000]: 100%|██████████| 1/1 [00:00<00:00, 11.42it/s]\n"
     ]
    },
    {
     "name": "stdout",
     "output_type": "stream",
     "text": [
      "-----------------------------------------------------------------------------------------\n",
      "training loss 0.0033 | valid loss 0.0044\n",
      "training accuracy 0.0978 | validation accuracy 0.1071\n",
      "-----------------------------------------------------------------------------------------\n"
     ]
    },
    {
     "name": "stderr",
     "output_type": "stream",
     "text": [
      "Training Epoch [6/11000]: 100%|██████████| 3/3 [00:02<00:00,  1.45it/s]\n",
      "Validation Epoch [6/11000]: 100%|██████████| 1/1 [00:00<00:00, 11.65it/s]\n"
     ]
    },
    {
     "name": "stdout",
     "output_type": "stream",
     "text": [
      "-----------------------------------------------------------------------------------------\n",
      "training loss 0.0033 | valid loss 0.0044\n",
      "training accuracy 0.0996 | validation accuracy 0.1036\n",
      "-----------------------------------------------------------------------------------------\n"
     ]
    },
    {
     "name": "stderr",
     "output_type": "stream",
     "text": [
      "Training Epoch [7/11000]: 100%|██████████| 3/3 [00:02<00:00,  1.45it/s]\n",
      "Validation Epoch [7/11000]: 100%|██████████| 1/1 [00:00<00:00, 11.29it/s]\n"
     ]
    },
    {
     "name": "stdout",
     "output_type": "stream",
     "text": [
      "-----------------------------------------------------------------------------------------\n",
      "training loss 0.0033 | valid loss 0.0044\n",
      "training accuracy 0.1031 | validation accuracy 0.1054\n",
      "-----------------------------------------------------------------------------------------\n"
     ]
    },
    {
     "name": "stderr",
     "output_type": "stream",
     "text": [
      "Training Epoch [8/11000]: 100%|██████████| 3/3 [00:02<00:00,  1.47it/s]\n",
      "Validation Epoch [8/11000]: 100%|██████████| 1/1 [00:00<00:00, 11.91it/s]\n"
     ]
    },
    {
     "name": "stdout",
     "output_type": "stream",
     "text": [
      "-----------------------------------------------------------------------------------------\n",
      "training loss 0.0033 | valid loss 0.0044\n",
      "training accuracy 0.1058 | validation accuracy 0.0982\n",
      "-----------------------------------------------------------------------------------------\n"
     ]
    },
    {
     "name": "stderr",
     "output_type": "stream",
     "text": [
      "Training Epoch [9/11000]: 100%|██████████| 3/3 [00:02<00:00,  1.48it/s]\n",
      "Validation Epoch [9/11000]: 100%|██████████| 1/1 [00:00<00:00, 11.83it/s]\n"
     ]
    },
    {
     "name": "stdout",
     "output_type": "stream",
     "text": [
      "-----------------------------------------------------------------------------------------\n",
      "training loss 0.0033 | valid loss 0.0043\n",
      "training accuracy 0.1022 | validation accuracy 0.0982\n",
      "-----------------------------------------------------------------------------------------\n"
     ]
    },
    {
     "name": "stderr",
     "output_type": "stream",
     "text": [
      "Training Epoch [10/11000]: 100%|██████████| 3/3 [00:02<00:00,  1.47it/s]\n",
      "Validation Epoch [10/11000]: 100%|██████████| 1/1 [00:00<00:00, 11.99it/s]\n"
     ]
    },
    {
     "name": "stdout",
     "output_type": "stream",
     "text": [
      "-----------------------------------------------------------------------------------------\n",
      "training loss 0.0033 | valid loss 0.0043\n",
      "training accuracy 0.1156 | validation accuracy 0.0929\n",
      "-----------------------------------------------------------------------------------------\n"
     ]
    },
    {
     "name": "stderr",
     "output_type": "stream",
     "text": [
      "Training Epoch [11/11000]: 100%|██████████| 3/3 [00:02<00:00,  1.47it/s]\n",
      "Validation Epoch [11/11000]: 100%|██████████| 1/1 [00:00<00:00, 11.23it/s]\n"
     ]
    },
    {
     "name": "stdout",
     "output_type": "stream",
     "text": [
      "-----------------------------------------------------------------------------------------\n",
      "training loss 0.0033 | valid loss 0.0043\n",
      "training accuracy 0.0987 | validation accuracy 0.0982\n",
      "-----------------------------------------------------------------------------------------\n"
     ]
    },
    {
     "name": "stderr",
     "output_type": "stream",
     "text": [
      "Training Epoch [12/11000]: 100%|██████████| 3/3 [00:02<00:00,  1.47it/s]\n",
      "Validation Epoch [12/11000]: 100%|██████████| 1/1 [00:00<00:00, 11.06it/s]\n"
     ]
    },
    {
     "name": "stdout",
     "output_type": "stream",
     "text": [
      "-----------------------------------------------------------------------------------------\n",
      "training loss 0.0032 | valid loss 0.0043\n",
      "training accuracy 0.1067 | validation accuracy 0.0821\n",
      "-----------------------------------------------------------------------------------------\n"
     ]
    },
    {
     "name": "stderr",
     "output_type": "stream",
     "text": [
      "Training Epoch [13/11000]: 100%|██████████| 3/3 [00:02<00:00,  1.47it/s]\n",
      "Validation Epoch [13/11000]: 100%|██████████| 1/1 [00:00<00:00, 11.64it/s]\n"
     ]
    },
    {
     "name": "stdout",
     "output_type": "stream",
     "text": [
      "-----------------------------------------------------------------------------------------\n",
      "training loss 0.0032 | valid loss 0.0042\n",
      "training accuracy 0.1071 | validation accuracy 0.0893\n",
      "-----------------------------------------------------------------------------------------\n"
     ]
    },
    {
     "name": "stderr",
     "output_type": "stream",
     "text": [
      "Training Epoch [14/11000]: 100%|██████████| 3/3 [00:02<00:00,  1.48it/s]\n",
      "Validation Epoch [14/11000]: 100%|██████████| 1/1 [00:00<00:00, 12.18it/s]\n"
     ]
    },
    {
     "name": "stdout",
     "output_type": "stream",
     "text": [
      "-----------------------------------------------------------------------------------------\n",
      "training loss 0.0032 | valid loss 0.0042\n",
      "training accuracy 0.1112 | validation accuracy 0.0893\n",
      "-----------------------------------------------------------------------------------------\n"
     ]
    },
    {
     "name": "stderr",
     "output_type": "stream",
     "text": [
      "Training Epoch [15/11000]: 100%|██████████| 3/3 [00:02<00:00,  1.47it/s]\n",
      "Validation Epoch [15/11000]: 100%|██████████| 1/1 [00:00<00:00, 11.41it/s]\n"
     ]
    },
    {
     "name": "stdout",
     "output_type": "stream",
     "text": [
      "-----------------------------------------------------------------------------------------\n",
      "training loss 0.0032 | valid loss 0.0042\n",
      "training accuracy 0.1049 | validation accuracy 0.0857\n",
      "-----------------------------------------------------------------------------------------\n"
     ]
    },
    {
     "name": "stderr",
     "output_type": "stream",
     "text": [
      "Training Epoch [16/11000]: 100%|██████████| 3/3 [00:02<00:00,  1.46it/s]\n",
      "Validation Epoch [16/11000]: 100%|██████████| 1/1 [00:00<00:00, 11.63it/s]\n"
     ]
    },
    {
     "name": "stdout",
     "output_type": "stream",
     "text": [
      "-----------------------------------------------------------------------------------------\n",
      "training loss 0.0032 | valid loss 0.0042\n",
      "training accuracy 0.1076 | validation accuracy 0.0893\n",
      "-----------------------------------------------------------------------------------------\n"
     ]
    },
    {
     "name": "stderr",
     "output_type": "stream",
     "text": [
      "Training Epoch [17/11000]: 100%|██████████| 3/3 [00:02<00:00,  1.46it/s]\n",
      "Validation Epoch [17/11000]: 100%|██████████| 1/1 [00:00<00:00, 10.96it/s]\n"
     ]
    },
    {
     "name": "stdout",
     "output_type": "stream",
     "text": [
      "-----------------------------------------------------------------------------------------\n",
      "training loss 0.0032 | valid loss 0.0042\n",
      "training accuracy 0.1103 | validation accuracy 0.0893\n",
      "-----------------------------------------------------------------------------------------\n"
     ]
    },
    {
     "name": "stderr",
     "output_type": "stream",
     "text": [
      "Training Epoch [18/11000]: 100%|██████████| 3/3 [00:02<00:00,  1.44it/s]\n",
      "Validation Epoch [18/11000]: 100%|██████████| 1/1 [00:00<00:00, 11.66it/s]\n"
     ]
    },
    {
     "name": "stdout",
     "output_type": "stream",
     "text": [
      "-----------------------------------------------------------------------------------------\n",
      "training loss 0.0032 | valid loss 0.0042\n",
      "training accuracy 0.1143 | validation accuracy 0.0929\n",
      "-----------------------------------------------------------------------------------------\n"
     ]
    },
    {
     "name": "stderr",
     "output_type": "stream",
     "text": [
      "Training Epoch [19/11000]: 100%|██████████| 3/3 [00:02<00:00,  1.47it/s]\n",
      "Validation Epoch [19/11000]: 100%|██████████| 1/1 [00:00<00:00, 11.84it/s]\n"
     ]
    },
    {
     "name": "stdout",
     "output_type": "stream",
     "text": [
      "-----------------------------------------------------------------------------------------\n",
      "training loss 0.0032 | valid loss 0.0042\n",
      "training accuracy 0.1022 | validation accuracy 0.1054\n",
      "-----------------------------------------------------------------------------------------\n"
     ]
    },
    {
     "name": "stderr",
     "output_type": "stream",
     "text": [
      "Training Epoch [20/11000]: 100%|██████████| 3/3 [00:02<00:00,  1.47it/s]\n",
      "Validation Epoch [20/11000]: 100%|██████████| 1/1 [00:00<00:00, 11.28it/s]\n"
     ]
    },
    {
     "name": "stdout",
     "output_type": "stream",
     "text": [
      "-----------------------------------------------------------------------------------------\n",
      "training loss 0.0032 | valid loss 0.0041\n",
      "training accuracy 0.1071 | validation accuracy 0.1143\n",
      "-----------------------------------------------------------------------------------------\n"
     ]
    },
    {
     "name": "stderr",
     "output_type": "stream",
     "text": [
      "Training Epoch [21/11000]: 100%|██████████| 3/3 [00:02<00:00,  1.47it/s]\n",
      "Validation Epoch [21/11000]: 100%|██████████| 1/1 [00:00<00:00, 11.68it/s]\n"
     ]
    },
    {
     "name": "stdout",
     "output_type": "stream",
     "text": [
      "-----------------------------------------------------------------------------------------\n",
      "training loss 0.0032 | valid loss 0.0041\n",
      "training accuracy 0.1094 | validation accuracy 0.1196\n",
      "-----------------------------------------------------------------------------------------\n"
     ]
    },
    {
     "name": "stderr",
     "output_type": "stream",
     "text": [
      "Training Epoch [22/11000]: 100%|██████████| 3/3 [00:02<00:00,  1.46it/s]\n",
      "Validation Epoch [22/11000]: 100%|██████████| 1/1 [00:00<00:00, 11.83it/s]\n"
     ]
    },
    {
     "name": "stdout",
     "output_type": "stream",
     "text": [
      "-----------------------------------------------------------------------------------------\n",
      "training loss 0.0032 | valid loss 0.0041\n",
      "training accuracy 0.1027 | validation accuracy 0.1232\n",
      "-----------------------------------------------------------------------------------------\n"
     ]
    },
    {
     "name": "stderr",
     "output_type": "stream",
     "text": [
      "Training Epoch [23/11000]: 100%|██████████| 3/3 [00:02<00:00,  1.47it/s]\n",
      "Validation Epoch [23/11000]: 100%|██████████| 1/1 [00:00<00:00, 11.55it/s]\n"
     ]
    },
    {
     "name": "stdout",
     "output_type": "stream",
     "text": [
      "-----------------------------------------------------------------------------------------\n",
      "training loss 0.0032 | valid loss 0.0041\n",
      "training accuracy 0.1125 | validation accuracy 0.1321\n",
      "-----------------------------------------------------------------------------------------\n"
     ]
    },
    {
     "name": "stderr",
     "output_type": "stream",
     "text": [
      "Training Epoch [24/11000]: 100%|██████████| 3/3 [00:02<00:00,  1.44it/s]\n",
      "Validation Epoch [24/11000]: 100%|██████████| 1/1 [00:00<00:00, 11.58it/s]\n"
     ]
    },
    {
     "name": "stdout",
     "output_type": "stream",
     "text": [
      "-----------------------------------------------------------------------------------------\n",
      "training loss 0.0031 | valid loss 0.0041\n",
      "training accuracy 0.1089 | validation accuracy 0.1357\n",
      "-----------------------------------------------------------------------------------------\n"
     ]
    },
    {
     "name": "stderr",
     "output_type": "stream",
     "text": [
      "Training Epoch [25/11000]: 100%|██████████| 3/3 [00:02<00:00,  1.47it/s]\n",
      "Validation Epoch [25/11000]: 100%|██████████| 1/1 [00:00<00:00, 12.40it/s]\n"
     ]
    },
    {
     "name": "stdout",
     "output_type": "stream",
     "text": [
      "-----------------------------------------------------------------------------------------\n",
      "training loss 0.0032 | valid loss 0.0041\n",
      "training accuracy 0.1103 | validation accuracy 0.1375\n",
      "-----------------------------------------------------------------------------------------\n"
     ]
    },
    {
     "name": "stderr",
     "output_type": "stream",
     "text": [
      "Training Epoch [26/11000]: 100%|██████████| 3/3 [00:02<00:00,  1.47it/s]\n",
      "Validation Epoch [26/11000]: 100%|██████████| 1/1 [00:00<00:00, 12.27it/s]\n"
     ]
    },
    {
     "name": "stdout",
     "output_type": "stream",
     "text": [
      "-----------------------------------------------------------------------------------------\n",
      "training loss 0.0032 | valid loss 0.0041\n",
      "training accuracy 0.1103 | validation accuracy 0.1411\n",
      "-----------------------------------------------------------------------------------------\n"
     ]
    },
    {
     "name": "stderr",
     "output_type": "stream",
     "text": [
      "Training Epoch [27/11000]: 100%|██████████| 3/3 [00:02<00:00,  1.47it/s]\n",
      "Validation Epoch [27/11000]: 100%|██████████| 1/1 [00:00<00:00, 11.72it/s]\n"
     ]
    },
    {
     "name": "stdout",
     "output_type": "stream",
     "text": [
      "-----------------------------------------------------------------------------------------\n",
      "training loss 0.0031 | valid loss 0.0041\n",
      "training accuracy 0.1219 | validation accuracy 0.1339\n",
      "-----------------------------------------------------------------------------------------\n"
     ]
    },
    {
     "name": "stderr",
     "output_type": "stream",
     "text": [
      "Training Epoch [28/11000]: 100%|██████████| 3/3 [00:02<00:00,  1.45it/s]\n",
      "Validation Epoch [28/11000]: 100%|██████████| 1/1 [00:00<00:00, 11.79it/s]\n"
     ]
    },
    {
     "name": "stdout",
     "output_type": "stream",
     "text": [
      "-----------------------------------------------------------------------------------------\n",
      "training loss 0.0031 | valid loss 0.0041\n",
      "training accuracy 0.1165 | validation accuracy 0.1375\n",
      "-----------------------------------------------------------------------------------------\n"
     ]
    },
    {
     "name": "stderr",
     "output_type": "stream",
     "text": [
      "Training Epoch [29/11000]: 100%|██████████| 3/3 [00:02<00:00,  1.47it/s]\n",
      "Validation Epoch [29/11000]: 100%|██████████| 1/1 [00:00<00:00, 11.43it/s]\n"
     ]
    },
    {
     "name": "stdout",
     "output_type": "stream",
     "text": [
      "-----------------------------------------------------------------------------------------\n",
      "training loss 0.0031 | valid loss 0.0041\n",
      "training accuracy 0.1045 | validation accuracy 0.1357\n",
      "-----------------------------------------------------------------------------------------\n"
     ]
    },
    {
     "name": "stderr",
     "output_type": "stream",
     "text": [
      "Training Epoch [30/11000]: 100%|██████████| 3/3 [00:02<00:00,  1.46it/s]\n",
      "Validation Epoch [30/11000]: 100%|██████████| 1/1 [00:00<00:00, 11.42it/s]\n"
     ]
    },
    {
     "name": "stdout",
     "output_type": "stream",
     "text": [
      "-----------------------------------------------------------------------------------------\n",
      "training loss 0.0031 | valid loss 0.0041\n",
      "training accuracy 0.1237 | validation accuracy 0.1429\n",
      "-----------------------------------------------------------------------------------------\n"
     ]
    },
    {
     "name": "stderr",
     "output_type": "stream",
     "text": [
      "Training Epoch [31/11000]: 100%|██████████| 3/3 [00:01<00:00,  1.57it/s]\n",
      "Validation Epoch [31/11000]: 100%|██████████| 1/1 [00:00<00:00, 12.44it/s]\n"
     ]
    },
    {
     "name": "stdout",
     "output_type": "stream",
     "text": [
      "-----------------------------------------------------------------------------------------\n",
      "training loss 0.0031 | valid loss 0.0041\n",
      "training accuracy 0.1147 | validation accuracy 0.1375\n",
      "-----------------------------------------------------------------------------------------\n"
     ]
    },
    {
     "name": "stderr",
     "output_type": "stream",
     "text": [
      "Training Epoch [32/11000]: 100%|██████████| 3/3 [00:01<00:00,  1.52it/s]\n",
      "Validation Epoch [32/11000]: 100%|██████████| 1/1 [00:00<00:00, 12.20it/s]\n"
     ]
    },
    {
     "name": "stdout",
     "output_type": "stream",
     "text": [
      "-----------------------------------------------------------------------------------------\n",
      "training loss 0.0031 | valid loss 0.0041\n",
      "training accuracy 0.1143 | validation accuracy 0.1411\n",
      "-----------------------------------------------------------------------------------------\n"
     ]
    },
    {
     "name": "stderr",
     "output_type": "stream",
     "text": [
      "Training Epoch [33/11000]: 100%|██████████| 3/3 [00:01<00:00,  1.60it/s]\n",
      "Validation Epoch [33/11000]: 100%|██████████| 1/1 [00:00<00:00, 12.71it/s]\n"
     ]
    },
    {
     "name": "stdout",
     "output_type": "stream",
     "text": [
      "-----------------------------------------------------------------------------------------\n",
      "training loss 0.0031 | valid loss 0.0041\n",
      "training accuracy 0.1219 | validation accuracy 0.1357\n",
      "-----------------------------------------------------------------------------------------\n"
     ]
    },
    {
     "name": "stderr",
     "output_type": "stream",
     "text": [
      "Training Epoch [34/11000]: 100%|██████████| 3/3 [00:01<00:00,  1.58it/s]\n",
      "Validation Epoch [34/11000]: 100%|██████████| 1/1 [00:00<00:00, 12.40it/s]\n"
     ]
    },
    {
     "name": "stdout",
     "output_type": "stream",
     "text": [
      "-----------------------------------------------------------------------------------------\n",
      "training loss 0.0031 | valid loss 0.0041\n",
      "training accuracy 0.1094 | validation accuracy 0.1339\n",
      "-----------------------------------------------------------------------------------------\n"
     ]
    },
    {
     "name": "stderr",
     "output_type": "stream",
     "text": [
      "Training Epoch [35/11000]: 100%|██████████| 3/3 [00:01<00:00,  1.58it/s]\n",
      "Validation Epoch [35/11000]: 100%|██████████| 1/1 [00:00<00:00, 12.54it/s]\n"
     ]
    },
    {
     "name": "stdout",
     "output_type": "stream",
     "text": [
      "-----------------------------------------------------------------------------------------\n",
      "training loss 0.0031 | valid loss 0.0041\n",
      "training accuracy 0.1201 | validation accuracy 0.1304\n",
      "-----------------------------------------------------------------------------------------\n"
     ]
    },
    {
     "name": "stderr",
     "output_type": "stream",
     "text": [
      "Training Epoch [36/11000]: 100%|██████████| 3/3 [00:01<00:00,  1.56it/s]\n",
      "Validation Epoch [36/11000]: 100%|██████████| 1/1 [00:00<00:00, 12.21it/s]\n"
     ]
    },
    {
     "name": "stdout",
     "output_type": "stream",
     "text": [
      "-----------------------------------------------------------------------------------------\n",
      "training loss 0.0031 | valid loss 0.0041\n",
      "training accuracy 0.1228 | validation accuracy 0.1357\n",
      "-----------------------------------------------------------------------------------------\n"
     ]
    },
    {
     "name": "stderr",
     "output_type": "stream",
     "text": [
      "Training Epoch [37/11000]: 100%|██████████| 3/3 [00:01<00:00,  1.60it/s]\n",
      "Validation Epoch [37/11000]: 100%|██████████| 1/1 [00:00<00:00, 12.71it/s]\n"
     ]
    },
    {
     "name": "stdout",
     "output_type": "stream",
     "text": [
      "-----------------------------------------------------------------------------------------\n",
      "training loss 0.0031 | valid loss 0.0041\n",
      "training accuracy 0.1312 | validation accuracy 0.1286\n",
      "-----------------------------------------------------------------------------------------\n"
     ]
    },
    {
     "name": "stderr",
     "output_type": "stream",
     "text": [
      "Training Epoch [38/11000]: 100%|██████████| 3/3 [00:01<00:00,  1.61it/s]\n",
      "Validation Epoch [38/11000]: 100%|██████████| 1/1 [00:00<00:00, 12.44it/s]\n"
     ]
    },
    {
     "name": "stdout",
     "output_type": "stream",
     "text": [
      "-----------------------------------------------------------------------------------------\n",
      "training loss 0.0031 | valid loss 0.0041\n",
      "training accuracy 0.1174 | validation accuracy 0.1250\n",
      "-----------------------------------------------------------------------------------------\n"
     ]
    },
    {
     "name": "stderr",
     "output_type": "stream",
     "text": [
      "Training Epoch [39/11000]: 100%|██████████| 3/3 [00:01<00:00,  1.60it/s]\n",
      "Validation Epoch [39/11000]: 100%|██████████| 1/1 [00:00<00:00, 12.27it/s]\n"
     ]
    },
    {
     "name": "stdout",
     "output_type": "stream",
     "text": [
      "-----------------------------------------------------------------------------------------\n",
      "training loss 0.0031 | valid loss 0.0041\n",
      "training accuracy 0.1335 | validation accuracy 0.1304\n",
      "-----------------------------------------------------------------------------------------\n"
     ]
    },
    {
     "name": "stderr",
     "output_type": "stream",
     "text": [
      "Training Epoch [40/11000]: 100%|██████████| 3/3 [00:01<00:00,  1.60it/s]\n",
      "Validation Epoch [40/11000]: 100%|██████████| 1/1 [00:00<00:00, 12.44it/s]\n"
     ]
    },
    {
     "name": "stdout",
     "output_type": "stream",
     "text": [
      "-----------------------------------------------------------------------------------------\n",
      "training loss 0.0031 | valid loss 0.0040\n",
      "training accuracy 0.1187 | validation accuracy 0.1250\n",
      "-----------------------------------------------------------------------------------------\n"
     ]
    },
    {
     "name": "stderr",
     "output_type": "stream",
     "text": [
      "Training Epoch [41/11000]: 100%|██████████| 3/3 [00:01<00:00,  1.61it/s]\n",
      "Validation Epoch [41/11000]: 100%|██████████| 1/1 [00:00<00:00, 12.60it/s]\n"
     ]
    },
    {
     "name": "stdout",
     "output_type": "stream",
     "text": [
      "-----------------------------------------------------------------------------------------\n",
      "training loss 0.0031 | valid loss 0.0040\n",
      "training accuracy 0.1210 | validation accuracy 0.1357\n",
      "-----------------------------------------------------------------------------------------\n"
     ]
    },
    {
     "name": "stderr",
     "output_type": "stream",
     "text": [
      "Training Epoch [42/11000]: 100%|██████████| 3/3 [00:01<00:00,  1.61it/s]\n",
      "Validation Epoch [42/11000]: 100%|██████████| 1/1 [00:00<00:00, 12.45it/s]\n"
     ]
    },
    {
     "name": "stdout",
     "output_type": "stream",
     "text": [
      "-----------------------------------------------------------------------------------------\n",
      "training loss 0.0031 | valid loss 0.0040\n",
      "training accuracy 0.1281 | validation accuracy 0.1393\n",
      "-----------------------------------------------------------------------------------------\n"
     ]
    },
    {
     "name": "stderr",
     "output_type": "stream",
     "text": [
      "Training Epoch [43/11000]: 100%|██████████| 3/3 [00:01<00:00,  1.61it/s]\n",
      "Validation Epoch [43/11000]: 100%|██████████| 1/1 [00:00<00:00, 12.59it/s]\n"
     ]
    },
    {
     "name": "stdout",
     "output_type": "stream",
     "text": [
      "-----------------------------------------------------------------------------------------\n",
      "training loss 0.0031 | valid loss 0.0040\n",
      "training accuracy 0.1384 | validation accuracy 0.1411\n",
      "-----------------------------------------------------------------------------------------\n"
     ]
    },
    {
     "name": "stderr",
     "output_type": "stream",
     "text": [
      "Training Epoch [44/11000]: 100%|██████████| 3/3 [00:01<00:00,  1.59it/s]\n",
      "Validation Epoch [44/11000]: 100%|██████████| 1/1 [00:00<00:00, 11.69it/s]\n"
     ]
    },
    {
     "name": "stdout",
     "output_type": "stream",
     "text": [
      "-----------------------------------------------------------------------------------------\n",
      "training loss 0.0031 | valid loss 0.0040\n",
      "training accuracy 0.1201 | validation accuracy 0.1375\n",
      "-----------------------------------------------------------------------------------------\n"
     ]
    },
    {
     "name": "stderr",
     "output_type": "stream",
     "text": [
      "Training Epoch [45/11000]: 100%|██████████| 3/3 [00:01<00:00,  1.57it/s]\n",
      "Validation Epoch [45/11000]: 100%|██████████| 1/1 [00:00<00:00, 12.77it/s]\n"
     ]
    },
    {
     "name": "stdout",
     "output_type": "stream",
     "text": [
      "-----------------------------------------------------------------------------------------\n",
      "training loss 0.0031 | valid loss 0.0040\n",
      "training accuracy 0.1246 | validation accuracy 0.1357\n",
      "-----------------------------------------------------------------------------------------\n"
     ]
    },
    {
     "name": "stderr",
     "output_type": "stream",
     "text": [
      "Training Epoch [46/11000]: 100%|██████████| 3/3 [00:01<00:00,  1.61it/s]\n",
      "Validation Epoch [46/11000]: 100%|██████████| 1/1 [00:00<00:00, 11.69it/s]\n"
     ]
    },
    {
     "name": "stdout",
     "output_type": "stream",
     "text": [
      "-----------------------------------------------------------------------------------------\n",
      "training loss 0.0031 | valid loss 0.0040\n",
      "training accuracy 0.1527 | validation accuracy 0.1357\n",
      "-----------------------------------------------------------------------------------------\n"
     ]
    },
    {
     "name": "stderr",
     "output_type": "stream",
     "text": [
      "Training Epoch [47/11000]: 100%|██████████| 3/3 [00:01<00:00,  1.57it/s]\n",
      "Validation Epoch [47/11000]: 100%|██████████| 1/1 [00:00<00:00, 12.82it/s]\n"
     ]
    },
    {
     "name": "stdout",
     "output_type": "stream",
     "text": [
      "-----------------------------------------------------------------------------------------\n",
      "training loss 0.0031 | valid loss 0.0040\n",
      "training accuracy 0.1491 | validation accuracy 0.1357\n",
      "-----------------------------------------------------------------------------------------\n"
     ]
    },
    {
     "name": "stderr",
     "output_type": "stream",
     "text": [
      "Training Epoch [48/11000]: 100%|██████████| 3/3 [00:01<00:00,  1.61it/s]\n",
      "Validation Epoch [48/11000]: 100%|██████████| 1/1 [00:00<00:00, 12.67it/s]\n"
     ]
    },
    {
     "name": "stdout",
     "output_type": "stream",
     "text": [
      "-----------------------------------------------------------------------------------------\n",
      "training loss 0.0030 | valid loss 0.0040\n",
      "training accuracy 0.1326 | validation accuracy 0.1339\n",
      "-----------------------------------------------------------------------------------------\n"
     ]
    },
    {
     "name": "stderr",
     "output_type": "stream",
     "text": [
      "Training Epoch [49/11000]: 100%|██████████| 3/3 [00:01<00:00,  1.60it/s]\n",
      "Validation Epoch [49/11000]: 100%|██████████| 1/1 [00:00<00:00, 12.70it/s]\n"
     ]
    },
    {
     "name": "stdout",
     "output_type": "stream",
     "text": [
      "-----------------------------------------------------------------------------------------\n",
      "training loss 0.0031 | valid loss 0.0040\n",
      "training accuracy 0.1460 | validation accuracy 0.1357\n",
      "-----------------------------------------------------------------------------------------\n"
     ]
    },
    {
     "name": "stderr",
     "output_type": "stream",
     "text": [
      "Training Epoch [50/11000]: 100%|██████████| 3/3 [00:01<00:00,  1.54it/s]\n",
      "Validation Epoch [50/11000]: 100%|██████████| 1/1 [00:00<00:00,  8.24it/s]\n"
     ]
    },
    {
     "name": "stdout",
     "output_type": "stream",
     "text": [
      "-----------------------------------------------------------------------------------------\n",
      "training loss 0.0030 | valid loss 0.0040\n",
      "training accuracy 0.1638 | validation accuracy 0.1393\n",
      "-----------------------------------------------------------------------------------------\n"
     ]
    },
    {
     "name": "stderr",
     "output_type": "stream",
     "text": [
      "Training Epoch [51/11000]: 100%|██████████| 3/3 [00:02<00:00,  1.47it/s]\n",
      "Validation Epoch [51/11000]: 100%|██████████| 1/1 [00:00<00:00, 11.30it/s]\n"
     ]
    },
    {
     "name": "stdout",
     "output_type": "stream",
     "text": [
      "-----------------------------------------------------------------------------------------\n",
      "training loss 0.0030 | valid loss 0.0040\n",
      "training accuracy 0.1562 | validation accuracy 0.1482\n",
      "-----------------------------------------------------------------------------------------\n"
     ]
    },
    {
     "name": "stderr",
     "output_type": "stream",
     "text": [
      "Training Epoch [52/11000]: 100%|██████████| 3/3 [00:02<00:00,  1.46it/s]\n",
      "Validation Epoch [52/11000]: 100%|██████████| 1/1 [00:00<00:00, 11.89it/s]\n"
     ]
    },
    {
     "name": "stdout",
     "output_type": "stream",
     "text": [
      "-----------------------------------------------------------------------------------------\n",
      "training loss 0.0030 | valid loss 0.0040\n",
      "training accuracy 0.1634 | validation accuracy 0.1518\n",
      "-----------------------------------------------------------------------------------------\n"
     ]
    },
    {
     "name": "stderr",
     "output_type": "stream",
     "text": [
      "Training Epoch [53/11000]:   0%|          | 0/3 [00:00<?, ?it/s]\n"
     ]
    },
    {
     "ename": "KeyboardInterrupt",
     "evalue": "",
     "output_type": "error",
     "traceback": [
      "\u001b[0;31m---------------------------------------------------------------------------\u001b[0m",
      "\u001b[0;31mKeyboardInterrupt\u001b[0m                         Traceback (most recent call last)",
      "\u001b[1;32m/home/cmu/anthony/FaultFormer/FaultFormer/testing.ipynb Cell 2\u001b[0m line \u001b[0;36m5\n\u001b[1;32m     <a href='vscode-notebook-cell:/home/cmu/anthony/FaultFormer/FaultFormer/testing.ipynb#W0sZmlsZQ%3D%3D?line=48'>49</a>\u001b[0m test_data \u001b[39m=\u001b[39m AugmentedDataset(data_path\u001b[39m=\u001b[39mtest_dir, label_path\u001b[39m=\u001b[39mtest_dir_l, fourier\u001b[39m=\u001b[39m\u001b[39mTrue\u001b[39;00m, test\u001b[39m=\u001b[39m\u001b[39mTrue\u001b[39;00m)\n\u001b[1;32m     <a href='vscode-notebook-cell:/home/cmu/anthony/FaultFormer/FaultFormer/testing.ipynb#W0sZmlsZQ%3D%3D?line=49'>50</a>\u001b[0m test_dataloader \u001b[39m=\u001b[39m DataLoader(test_data, batch_size\u001b[39m=\u001b[39mbatch_size, shuffle\u001b[39m=\u001b[39m\u001b[39mFalse\u001b[39;00m, collate_fn \u001b[39m=\u001b[39m collate_fn_transpose)\n\u001b[0;32m---> <a href='vscode-notebook-cell:/home/cmu/anthony/FaultFormer/FaultFormer/testing.ipynb#W0sZmlsZQ%3D%3D?line=51'>52</a>\u001b[0m train_model(model, params, train_dataloader\u001b[39m=\u001b[39;49mtrain_dataloader, test_dataloader\u001b[39m=\u001b[39;49mtest_dataloader)\n",
      "File \u001b[0;32m~/anthony/FaultFormer/FaultFormer/train.py:113\u001b[0m, in \u001b[0;36mtrain_model\u001b[0;34m(model, params, train_dataloader, test_dataloader, optimizer)\u001b[0m\n\u001b[1;32m    110\u001b[0m  file\u001b[39m.\u001b[39mwrite(json\u001b[39m.\u001b[39mdumps(params))\n\u001b[1;32m    112\u001b[0m \u001b[39mfor\u001b[39;00m epoch \u001b[39min\u001b[39;00m \u001b[39mrange\u001b[39m(\u001b[39m1\u001b[39m, epochs \u001b[39m+\u001b[39m \u001b[39m1\u001b[39m):\n\u001b[0;32m--> 113\u001b[0m     train_loss, train_acc \u001b[39m=\u001b[39m train(model \u001b[39m=\u001b[39;49m model, \n\u001b[1;32m    114\u001b[0m                         dataloader \u001b[39m=\u001b[39;49m train_dataloader)\n\u001b[1;32m    116\u001b[0m     val_loss, val_acc \u001b[39m=\u001b[39m evaluate(model \u001b[39m=\u001b[39m model,\n\u001b[1;32m    117\u001b[0m                         dataloader \u001b[39m=\u001b[39m test_dataloader)\n\u001b[1;32m    119\u001b[0m     \u001b[39mif\u001b[39;00m val_loss \u001b[39m<\u001b[39m best_val_loss:\n",
      "File \u001b[0;32m~/anthony/FaultFormer/FaultFormer/train.py:41\u001b[0m, in \u001b[0;36mtrain_model.<locals>.train\u001b[0;34m(model, dataloader)\u001b[0m\n\u001b[1;32m     38\u001b[0m loss \u001b[39m=\u001b[39m criterion(output, labels)\n\u001b[1;32m     40\u001b[0m optimizer\u001b[39m.\u001b[39moptimizer\u001b[39m.\u001b[39mzero_grad()\n\u001b[0;32m---> 41\u001b[0m loss\u001b[39m.\u001b[39;49mbackward()\n\u001b[1;32m     42\u001b[0m torch\u001b[39m.\u001b[39mnn\u001b[39m.\u001b[39mutils\u001b[39m.\u001b[39mclip_grad_norm_(model\u001b[39m.\u001b[39mparameters(), \u001b[39m0.5\u001b[39m)\n\u001b[1;32m     43\u001b[0m optimizer\u001b[39m.\u001b[39mstep()\n",
      "File \u001b[0;32m~/anaconda3/envs/fault/lib/python3.9/site-packages/torch/_tensor.py:396\u001b[0m, in \u001b[0;36mTensor.backward\u001b[0;34m(self, gradient, retain_graph, create_graph, inputs)\u001b[0m\n\u001b[1;32m    387\u001b[0m \u001b[39mif\u001b[39;00m has_torch_function_unary(\u001b[39mself\u001b[39m):\n\u001b[1;32m    388\u001b[0m     \u001b[39mreturn\u001b[39;00m handle_torch_function(\n\u001b[1;32m    389\u001b[0m         Tensor\u001b[39m.\u001b[39mbackward,\n\u001b[1;32m    390\u001b[0m         (\u001b[39mself\u001b[39m,),\n\u001b[0;32m   (...)\u001b[0m\n\u001b[1;32m    394\u001b[0m         create_graph\u001b[39m=\u001b[39mcreate_graph,\n\u001b[1;32m    395\u001b[0m         inputs\u001b[39m=\u001b[39minputs)\n\u001b[0;32m--> 396\u001b[0m torch\u001b[39m.\u001b[39;49mautograd\u001b[39m.\u001b[39;49mbackward(\u001b[39mself\u001b[39;49m, gradient, retain_graph, create_graph, inputs\u001b[39m=\u001b[39;49minputs)\n",
      "File \u001b[0;32m~/anaconda3/envs/fault/lib/python3.9/site-packages/torch/autograd/__init__.py:173\u001b[0m, in \u001b[0;36mbackward\u001b[0;34m(tensors, grad_tensors, retain_graph, create_graph, grad_variables, inputs)\u001b[0m\n\u001b[1;32m    168\u001b[0m     retain_graph \u001b[39m=\u001b[39m create_graph\n\u001b[1;32m    170\u001b[0m \u001b[39m# The reason we repeat same the comment below is that\u001b[39;00m\n\u001b[1;32m    171\u001b[0m \u001b[39m# some Python versions print out the first line of a multi-line function\u001b[39;00m\n\u001b[1;32m    172\u001b[0m \u001b[39m# calls in the traceback and some print out the last line\u001b[39;00m\n\u001b[0;32m--> 173\u001b[0m Variable\u001b[39m.\u001b[39;49m_execution_engine\u001b[39m.\u001b[39;49mrun_backward(  \u001b[39m# Calls into the C++ engine to run the backward pass\u001b[39;49;00m\n\u001b[1;32m    174\u001b[0m     tensors, grad_tensors_, retain_graph, create_graph, inputs,\n\u001b[1;32m    175\u001b[0m     allow_unreachable\u001b[39m=\u001b[39;49m\u001b[39mTrue\u001b[39;49;00m, accumulate_grad\u001b[39m=\u001b[39;49m\u001b[39mTrue\u001b[39;49;00m)\n",
      "\u001b[0;31mKeyboardInterrupt\u001b[0m: "
     ]
    }
   ],
   "source": [
    "import torch\n",
    "from train import train_model\n",
    "from datasets import AugmentedDataset\n",
    "from torch.utils.data import DataLoader\n",
    "from utils import collate_fn_transpose\n",
    "from models import TransformerModel_cls\n",
    "\n",
    "params = {\n",
    "        \"batch_size\": 1024,\n",
    "        \"epochs\": 11000,\n",
    "        \"d_in\": 3,\n",
    "        \"d_model\": 140,\n",
    "        \"nhead\": 20,\n",
    "        \"d_hid\": 300,\n",
    "        \"nlayers\": 6,\n",
    "        \"dropout\": 0.3,\n",
    "        \"warmup\": 4000,\n",
    "        \"seq_len\": 40,\n",
    "        \"d_lin\": 512,\n",
    "        \"d_out\": 64,\n",
    "        \"n_classes\": 10,\n",
    "        \"model\": \"Transformer_cls\",\n",
    "        \"fourier\": True,\n",
    "        \"p_no_aug\": .1,\n",
    "        \"p_two_aug\": .5,\n",
    "    }\n",
    "\n",
    "model = TransformerModel_cls(  d_in = params[\"d_in\"], \n",
    "                            d_model = params[\"d_model\"], \n",
    "                            nhead = params[\"nhead\"], \n",
    "                            d_hid = params[\"d_hid\"],\n",
    "                            nlayers = params[\"nlayers\"], \n",
    "                            seq_len = params[\"seq_len\"], \n",
    "                            dropout = params[\"dropout\"])\n",
    "\n",
    "fold = 1\n",
    "train_dir = \"CWRU/kfold/training_data_\" + str(fold)\n",
    "test_dir = \"CWRU/kfold/test_data_\" + str(fold)\n",
    "train_dir_l = \"CWRU/kfold/training_labels_\" + str(fold)\n",
    "test_dir_l = \"CWRU/kfold/test_labels_\" + str(fold)\n",
    "\n",
    "batch_size = params[\"batch_size\"]\n",
    "p_no_aug = params[\"p_no_aug\"]\n",
    "p_two_aug = params[\"p_two_aug\"]\n",
    "\n",
    "training_data = AugmentedDataset(data_path=train_dir, label_path=train_dir_l, p_no_aug=p_no_aug, p_two_aug=p_two_aug, fourier=True, test=False)\n",
    "train_dataloader = DataLoader(training_data, batch_size=batch_size, shuffle=True, collate_fn = collate_fn_transpose)\n",
    "\n",
    "test_data = AugmentedDataset(data_path=test_dir, label_path=test_dir_l, fourier=True, test=True)\n",
    "test_dataloader = DataLoader(test_data, batch_size=batch_size, shuffle=False, collate_fn = collate_fn_transpose)\n",
    "\n",
    "train_model(model, params, train_dataloader=train_dataloader, test_dataloader=test_dataloader)"
   ]
  },
  {
   "cell_type": "markdown",
   "metadata": {},
   "source": [
    "### Masked Pretraining"
   ]
  },
  {
   "cell_type": "code",
   "execution_count": 1,
   "metadata": {},
   "outputs": [
    {
     "name": "stderr",
     "output_type": "stream",
     "text": [
      "/home/cmu/anaconda3/envs/fault/lib/python3.9/site-packages/tqdm/auto.py:21: TqdmWarning: IProgress not found. Please update jupyter and ipywidgets. See https://ipywidgets.readthedocs.io/en/stable/user_install.html\n",
      "  from .autonotebook import tqdm as notebook_tqdm\n",
      "Training Epoch [1/500]: 100%|██████████| 35/35 [00:11<00:00,  3.05it/s]\n"
     ]
    },
    {
     "name": "stdout",
     "output_type": "stream",
     "text": [
      "-----------------------------------------------------------------------------------------\n",
      "training loss 1.8499\n",
      "-----------------------------------------------------------------------------------------\n"
     ]
    },
    {
     "name": "stderr",
     "output_type": "stream",
     "text": [
      "Training Epoch [2/500]:  26%|██▌       | 9/35 [00:03<00:08,  2.92it/s]\n"
     ]
    },
    {
     "ename": "KeyboardInterrupt",
     "evalue": "",
     "output_type": "error",
     "traceback": [
      "\u001b[0;31m---------------------------------------------------------------------------\u001b[0m",
      "\u001b[0;31mKeyboardInterrupt\u001b[0m                         Traceback (most recent call last)",
      "\u001b[1;32m/home/cmu/anthony/FaultFormer/FaultFormer/examples.ipynb Cell 3\u001b[0m line \u001b[0;36m4\n\u001b[1;32m     <a href='vscode-notebook-cell:/home/cmu/anthony/FaultFormer/FaultFormer/examples.ipynb#X23sZmlsZQ%3D%3D?line=41'>42</a>\u001b[0m test_data \u001b[39m=\u001b[39m AugmentedDataset(data_path\u001b[39m=\u001b[39mtest_dir, fourier\u001b[39m=\u001b[39m\u001b[39mFalse\u001b[39;00m, test\u001b[39m=\u001b[39m\u001b[39mTrue\u001b[39;00m, mask\u001b[39m=\u001b[39m\u001b[39mTrue\u001b[39;00m)\n\u001b[1;32m     <a href='vscode-notebook-cell:/home/cmu/anthony/FaultFormer/FaultFormer/examples.ipynb#X23sZmlsZQ%3D%3D?line=42'>43</a>\u001b[0m test_dataloader \u001b[39m=\u001b[39m DataLoader(test_data, batch_size\u001b[39m=\u001b[39mbatch_size, shuffle\u001b[39m=\u001b[39m\u001b[39mFalse\u001b[39;00m, collate_fn \u001b[39m=\u001b[39m collate_fn_transpose)\n\u001b[0;32m---> <a href='vscode-notebook-cell:/home/cmu/anthony/FaultFormer/FaultFormer/examples.ipynb#X23sZmlsZQ%3D%3D?line=44'>45</a>\u001b[0m pretrain_model(model, params, dataloader\u001b[39m=\u001b[39;49mtrain_dataloader)\n",
      "File \u001b[0;32m~/anthony/FaultFormer/FaultFormer/mask_pretrain.py:70\u001b[0m, in \u001b[0;36mpretrain_model\u001b[0;34m(model, params, dataloader)\u001b[0m\n\u001b[1;32m     67\u001b[0m     file\u001b[39m.\u001b[39mwrite(json\u001b[39m.\u001b[39mdumps(params))\n\u001b[1;32m     69\u001b[0m \u001b[39mfor\u001b[39;00m epoch \u001b[39min\u001b[39;00m \u001b[39mrange\u001b[39m(\u001b[39m1\u001b[39m, epochs \u001b[39m+\u001b[39m \u001b[39m1\u001b[39m):\n\u001b[0;32m---> 70\u001b[0m     loss \u001b[39m=\u001b[39m train(model \u001b[39m=\u001b[39;49m model, \n\u001b[1;32m     71\u001b[0m                 dataloader \u001b[39m=\u001b[39;49m dataloader)\n\u001b[1;32m     73\u001b[0m     \u001b[39mif\u001b[39;00m loss \u001b[39m<\u001b[39m best_loss:\n\u001b[1;32m     74\u001b[0m         best_loss \u001b[39m=\u001b[39m loss\n",
      "File \u001b[0;32m~/anthony/FaultFormer/FaultFormer/mask_pretrain.py:42\u001b[0m, in \u001b[0;36mpretrain_model.<locals>.train\u001b[0;34m(model, dataloader)\u001b[0m\n\u001b[1;32m     40\u001b[0m     loss\u001b[39m.\u001b[39mbackward()\n\u001b[1;32m     41\u001b[0m     torch\u001b[39m.\u001b[39mnn\u001b[39m.\u001b[39mutils\u001b[39m.\u001b[39mclip_grad_norm_(model\u001b[39m.\u001b[39mparameters(), \u001b[39m0.5\u001b[39m)\n\u001b[0;32m---> 42\u001b[0m     optimizer\u001b[39m.\u001b[39;49mstep()\n\u001b[1;32m     44\u001b[0m     total_loss \u001b[39m+\u001b[39m\u001b[39m=\u001b[39m loss\u001b[39m.\u001b[39mitem()\n\u001b[1;32m     46\u001b[0m \u001b[39mreturn\u001b[39;00m total_loss\n",
      "File \u001b[0;32m~/anthony/FaultFormer/FaultFormer/utils.py:98\u001b[0m, in \u001b[0;36mNoamOpt.step\u001b[0;34m(self)\u001b[0m\n\u001b[1;32m     96\u001b[0m     p[\u001b[39m'\u001b[39m\u001b[39mlr\u001b[39m\u001b[39m'\u001b[39m] \u001b[39m=\u001b[39m rate\n\u001b[1;32m     97\u001b[0m \u001b[39mself\u001b[39m\u001b[39m.\u001b[39m_rate \u001b[39m=\u001b[39m rate\n\u001b[0;32m---> 98\u001b[0m \u001b[39mself\u001b[39;49m\u001b[39m.\u001b[39;49moptimizer\u001b[39m.\u001b[39;49mstep()\n",
      "File \u001b[0;32m~/anaconda3/envs/fault/lib/python3.9/site-packages/torch/optim/optimizer.py:113\u001b[0m, in \u001b[0;36mOptimizer._hook_for_profile.<locals>.profile_hook_step.<locals>.wrapper\u001b[0;34m(*args, **kwargs)\u001b[0m\n\u001b[1;32m    111\u001b[0m profile_name \u001b[39m=\u001b[39m \u001b[39m\"\u001b[39m\u001b[39mOptimizer.step#\u001b[39m\u001b[39m{}\u001b[39;00m\u001b[39m.step\u001b[39m\u001b[39m\"\u001b[39m\u001b[39m.\u001b[39mformat(obj\u001b[39m.\u001b[39m\u001b[39m__class__\u001b[39m\u001b[39m.\u001b[39m\u001b[39m__name__\u001b[39m)\n\u001b[1;32m    112\u001b[0m \u001b[39mwith\u001b[39;00m torch\u001b[39m.\u001b[39mautograd\u001b[39m.\u001b[39mprofiler\u001b[39m.\u001b[39mrecord_function(profile_name):\n\u001b[0;32m--> 113\u001b[0m     \u001b[39mreturn\u001b[39;00m func(\u001b[39m*\u001b[39;49margs, \u001b[39m*\u001b[39;49m\u001b[39m*\u001b[39;49mkwargs)\n",
      "File \u001b[0;32m~/anaconda3/envs/fault/lib/python3.9/site-packages/torch/autograd/grad_mode.py:27\u001b[0m, in \u001b[0;36m_DecoratorContextManager.__call__.<locals>.decorate_context\u001b[0;34m(*args, **kwargs)\u001b[0m\n\u001b[1;32m     24\u001b[0m \u001b[39m@functools\u001b[39m\u001b[39m.\u001b[39mwraps(func)\n\u001b[1;32m     25\u001b[0m \u001b[39mdef\u001b[39;00m \u001b[39mdecorate_context\u001b[39m(\u001b[39m*\u001b[39margs, \u001b[39m*\u001b[39m\u001b[39m*\u001b[39mkwargs):\n\u001b[1;32m     26\u001b[0m     \u001b[39mwith\u001b[39;00m \u001b[39mself\u001b[39m\u001b[39m.\u001b[39mclone():\n\u001b[0;32m---> 27\u001b[0m         \u001b[39mreturn\u001b[39;00m func(\u001b[39m*\u001b[39;49margs, \u001b[39m*\u001b[39;49m\u001b[39m*\u001b[39;49mkwargs)\n",
      "File \u001b[0;32m~/anaconda3/envs/fault/lib/python3.9/site-packages/torch/optim/adam.py:157\u001b[0m, in \u001b[0;36mAdam.step\u001b[0;34m(self, closure)\u001b[0m\n\u001b[1;32m    153\u001b[0m                 max_exp_avg_sqs\u001b[39m.\u001b[39mappend(state[\u001b[39m'\u001b[39m\u001b[39mmax_exp_avg_sq\u001b[39m\u001b[39m'\u001b[39m])\n\u001b[1;32m    155\u001b[0m             state_steps\u001b[39m.\u001b[39mappend(state[\u001b[39m'\u001b[39m\u001b[39mstep\u001b[39m\u001b[39m'\u001b[39m])\n\u001b[0;32m--> 157\u001b[0m     adam(params_with_grad,\n\u001b[1;32m    158\u001b[0m          grads,\n\u001b[1;32m    159\u001b[0m          exp_avgs,\n\u001b[1;32m    160\u001b[0m          exp_avg_sqs,\n\u001b[1;32m    161\u001b[0m          max_exp_avg_sqs,\n\u001b[1;32m    162\u001b[0m          state_steps,\n\u001b[1;32m    163\u001b[0m          amsgrad\u001b[39m=\u001b[39;49mgroup[\u001b[39m'\u001b[39;49m\u001b[39mamsgrad\u001b[39;49m\u001b[39m'\u001b[39;49m],\n\u001b[1;32m    164\u001b[0m          beta1\u001b[39m=\u001b[39;49mbeta1,\n\u001b[1;32m    165\u001b[0m          beta2\u001b[39m=\u001b[39;49mbeta2,\n\u001b[1;32m    166\u001b[0m          lr\u001b[39m=\u001b[39;49mgroup[\u001b[39m'\u001b[39;49m\u001b[39mlr\u001b[39;49m\u001b[39m'\u001b[39;49m],\n\u001b[1;32m    167\u001b[0m          weight_decay\u001b[39m=\u001b[39;49mgroup[\u001b[39m'\u001b[39;49m\u001b[39mweight_decay\u001b[39;49m\u001b[39m'\u001b[39;49m],\n\u001b[1;32m    168\u001b[0m          eps\u001b[39m=\u001b[39;49mgroup[\u001b[39m'\u001b[39;49m\u001b[39meps\u001b[39;49m\u001b[39m'\u001b[39;49m],\n\u001b[1;32m    169\u001b[0m          maximize\u001b[39m=\u001b[39;49mgroup[\u001b[39m'\u001b[39;49m\u001b[39mmaximize\u001b[39;49m\u001b[39m'\u001b[39;49m],\n\u001b[1;32m    170\u001b[0m          foreach\u001b[39m=\u001b[39;49mgroup[\u001b[39m'\u001b[39;49m\u001b[39mforeach\u001b[39;49m\u001b[39m'\u001b[39;49m],\n\u001b[1;32m    171\u001b[0m          capturable\u001b[39m=\u001b[39;49mgroup[\u001b[39m'\u001b[39;49m\u001b[39mcapturable\u001b[39;49m\u001b[39m'\u001b[39;49m])\n\u001b[1;32m    173\u001b[0m \u001b[39mreturn\u001b[39;00m loss\n",
      "File \u001b[0;32m~/anaconda3/envs/fault/lib/python3.9/site-packages/torch/optim/adam.py:213\u001b[0m, in \u001b[0;36madam\u001b[0;34m(params, grads, exp_avgs, exp_avg_sqs, max_exp_avg_sqs, state_steps, foreach, capturable, amsgrad, beta1, beta2, lr, weight_decay, eps, maximize)\u001b[0m\n\u001b[1;32m    210\u001b[0m \u001b[39melse\u001b[39;00m:\n\u001b[1;32m    211\u001b[0m     func \u001b[39m=\u001b[39m _single_tensor_adam\n\u001b[0;32m--> 213\u001b[0m func(params,\n\u001b[1;32m    214\u001b[0m      grads,\n\u001b[1;32m    215\u001b[0m      exp_avgs,\n\u001b[1;32m    216\u001b[0m      exp_avg_sqs,\n\u001b[1;32m    217\u001b[0m      max_exp_avg_sqs,\n\u001b[1;32m    218\u001b[0m      state_steps,\n\u001b[1;32m    219\u001b[0m      amsgrad\u001b[39m=\u001b[39;49mamsgrad,\n\u001b[1;32m    220\u001b[0m      beta1\u001b[39m=\u001b[39;49mbeta1,\n\u001b[1;32m    221\u001b[0m      beta2\u001b[39m=\u001b[39;49mbeta2,\n\u001b[1;32m    222\u001b[0m      lr\u001b[39m=\u001b[39;49mlr,\n\u001b[1;32m    223\u001b[0m      weight_decay\u001b[39m=\u001b[39;49mweight_decay,\n\u001b[1;32m    224\u001b[0m      eps\u001b[39m=\u001b[39;49meps,\n\u001b[1;32m    225\u001b[0m      maximize\u001b[39m=\u001b[39;49mmaximize,\n\u001b[1;32m    226\u001b[0m      capturable\u001b[39m=\u001b[39;49mcapturable)\n",
      "File \u001b[0;32m~/anaconda3/envs/fault/lib/python3.9/site-packages/torch/optim/adam.py:305\u001b[0m, in \u001b[0;36m_single_tensor_adam\u001b[0;34m(params, grads, exp_avgs, exp_avg_sqs, max_exp_avg_sqs, state_steps, amsgrad, beta1, beta2, lr, weight_decay, eps, maximize, capturable)\u001b[0m\n\u001b[1;32m    303\u001b[0m     denom \u001b[39m=\u001b[39m (max_exp_avg_sqs[i]\u001b[39m.\u001b[39msqrt() \u001b[39m/\u001b[39m bias_correction2_sqrt)\u001b[39m.\u001b[39madd_(eps)\n\u001b[1;32m    304\u001b[0m \u001b[39melse\u001b[39;00m:\n\u001b[0;32m--> 305\u001b[0m     denom \u001b[39m=\u001b[39m (exp_avg_sq\u001b[39m.\u001b[39;49msqrt() \u001b[39m/\u001b[39;49m bias_correction2_sqrt)\u001b[39m.\u001b[39;49madd_(eps)\n\u001b[1;32m    307\u001b[0m param\u001b[39m.\u001b[39maddcdiv_(exp_avg, denom, value\u001b[39m=\u001b[39m\u001b[39m-\u001b[39mstep_size)\n",
      "\u001b[0;31mKeyboardInterrupt\u001b[0m: "
     ]
    }
   ],
   "source": [
    "import torch\n",
    "from mask_pretrain import pretrain_model\n",
    "from datasets import AugmentedDataset\n",
    "from torch.utils.data import DataLoader\n",
    "from utils import collate_fn_transpose\n",
    "from models import TransformerModel_mask\n",
    "\n",
    "params = {\"batch_size\": 64, \n",
    "        \"epochs\": 500, \n",
    "        \"d_in\": 1, \n",
    "        \"d_model\": 64, \n",
    "        \"nhead\": 16, \n",
    "        \"d_hid\": 128, \n",
    "        \"nlayers\": 4, \n",
    "        \"dropout\": 0.3, \n",
    "        \"warmup\": 4000, \n",
    "        \"seq_len\": 400, \n",
    "        \"model\": \"Transformer_mask\", }\n",
    "\n",
    "model = TransformerModel_mask(d_in = params[\"d_in\"], \n",
    "                            d_model = params[\"d_model\"], \n",
    "                            nhead = params[\"nhead\"], \n",
    "                            d_hid = params[\"d_hid\"],\n",
    "                            nlayers = params[\"nlayers\"], \n",
    "                            seq_len = params[\"seq_len\"], \n",
    "                            dropout = params[\"dropout\"])\n",
    "\n",
    "fold = 1\n",
    "train_dir = \"data/5folddata/training_data_\" + str(fold)\n",
    "test_dir = \"data/5folddata/test_data_\" + str(fold)\n",
    "\n",
    "batch_size = params[\"batch_size\"]\n",
    "\n",
    "training_data = AugmentedDataset(data_path=train_dir, fourier=False, test=True, mask=True)\n",
    "train_dataloader = DataLoader(training_data, batch_size=batch_size, shuffle=True, collate_fn = collate_fn_transpose)\n",
    "\n",
    "test_data = AugmentedDataset(data_path=test_dir, fourier=False, test=True, mask=True)\n",
    "test_dataloader = DataLoader(test_data, batch_size=batch_size, shuffle=False, collate_fn = collate_fn_transpose)\n",
    "\n",
    "pretrain_model(model, params, dataloader=train_dataloader)"
   ]
  },
  {
   "cell_type": "markdown",
   "metadata": {},
   "source": [
    "### Triplet Pretraining"
   ]
  },
  {
   "cell_type": "code",
   "execution_count": 3,
   "metadata": {},
   "outputs": [
    {
     "name": "stderr",
     "output_type": "stream",
     "text": [
      "Training Epoch [1/500]: 100%|██████████| 35/35 [00:00<00:00, 48.42it/s]\n"
     ]
    },
    {
     "name": "stdout",
     "output_type": "stream",
     "text": [
      "-----------------------------------------------------------------------------------------\n",
      "training loss 323.8758\n",
      "-----------------------------------------------------------------------------------------\n"
     ]
    },
    {
     "name": "stderr",
     "output_type": "stream",
     "text": [
      "Training Epoch [2/500]: 100%|██████████| 35/35 [00:00<00:00, 64.26it/s]\n"
     ]
    },
    {
     "name": "stdout",
     "output_type": "stream",
     "text": [
      "-----------------------------------------------------------------------------------------\n",
      "training loss 304.1867\n",
      "-----------------------------------------------------------------------------------------\n"
     ]
    },
    {
     "name": "stderr",
     "output_type": "stream",
     "text": [
      "Training Epoch [3/500]: 100%|██████████| 35/35 [00:00<00:00, 64.62it/s]\n"
     ]
    },
    {
     "name": "stdout",
     "output_type": "stream",
     "text": [
      "-----------------------------------------------------------------------------------------\n",
      "training loss 284.1928\n",
      "-----------------------------------------------------------------------------------------\n"
     ]
    },
    {
     "name": "stderr",
     "output_type": "stream",
     "text": [
      "Training Epoch [4/500]: 100%|██████████| 35/35 [00:00<00:00, 64.65it/s]\n"
     ]
    },
    {
     "name": "stdout",
     "output_type": "stream",
     "text": [
      "-----------------------------------------------------------------------------------------\n",
      "training loss 240.6230\n",
      "-----------------------------------------------------------------------------------------\n"
     ]
    },
    {
     "name": "stderr",
     "output_type": "stream",
     "text": [
      "Training Epoch [5/500]: 100%|██████████| 35/35 [00:00<00:00, 64.10it/s]\n"
     ]
    },
    {
     "name": "stdout",
     "output_type": "stream",
     "text": [
      "-----------------------------------------------------------------------------------------\n",
      "training loss 182.6832\n",
      "-----------------------------------------------------------------------------------------\n"
     ]
    },
    {
     "name": "stderr",
     "output_type": "stream",
     "text": [
      "Training Epoch [6/500]: 100%|██████████| 35/35 [00:00<00:00, 64.62it/s]\n"
     ]
    },
    {
     "name": "stdout",
     "output_type": "stream",
     "text": [
      "-----------------------------------------------------------------------------------------\n",
      "training loss 124.7556\n",
      "-----------------------------------------------------------------------------------------\n"
     ]
    },
    {
     "name": "stderr",
     "output_type": "stream",
     "text": [
      "Training Epoch [7/500]: 100%|██████████| 35/35 [00:00<00:00, 62.96it/s]\n"
     ]
    },
    {
     "name": "stdout",
     "output_type": "stream",
     "text": [
      "-----------------------------------------------------------------------------------------\n",
      "training loss 91.3331\n",
      "-----------------------------------------------------------------------------------------\n"
     ]
    },
    {
     "name": "stderr",
     "output_type": "stream",
     "text": [
      "Training Epoch [8/500]: 100%|██████████| 35/35 [00:00<00:00, 64.05it/s]\n"
     ]
    },
    {
     "name": "stdout",
     "output_type": "stream",
     "text": [
      "-----------------------------------------------------------------------------------------\n",
      "training loss 71.2899\n",
      "-----------------------------------------------------------------------------------------\n"
     ]
    },
    {
     "name": "stderr",
     "output_type": "stream",
     "text": [
      "Training Epoch [9/500]: 100%|██████████| 35/35 [00:00<00:00, 64.24it/s]\n"
     ]
    },
    {
     "name": "stdout",
     "output_type": "stream",
     "text": [
      "-----------------------------------------------------------------------------------------\n",
      "training loss 60.4561\n",
      "-----------------------------------------------------------------------------------------\n"
     ]
    },
    {
     "name": "stderr",
     "output_type": "stream",
     "text": [
      "Training Epoch [10/500]:  20%|██        | 7/35 [00:00<00:00, 59.44it/s]\n"
     ]
    },
    {
     "ename": "KeyboardInterrupt",
     "evalue": "",
     "output_type": "error",
     "traceback": [
      "\u001b[0;31m---------------------------------------------------------------------------\u001b[0m",
      "\u001b[0;31mKeyboardInterrupt\u001b[0m                         Traceback (most recent call last)",
      "\u001b[1;32m/home/cmu/anthony/FaultFormer/FaultFormer/examples.ipynb Cell 7\u001b[0m line \u001b[0;36m4\n\u001b[1;32m     <a href='vscode-notebook-cell:/home/cmu/anthony/FaultFormer/FaultFormer/examples.ipynb#X30sZmlsZQ%3D%3D?line=37'>38</a>\u001b[0m training_data \u001b[39m=\u001b[39m AugmentedDataset(data_path\u001b[39m=\u001b[39mtrain_dir, label_path\u001b[39m=\u001b[39mtrain_dir_l, fourier\u001b[39m=\u001b[39m\u001b[39mTrue\u001b[39;00m, test\u001b[39m=\u001b[39m\u001b[39mFalse\u001b[39;00m)\n\u001b[1;32m     <a href='vscode-notebook-cell:/home/cmu/anthony/FaultFormer/FaultFormer/examples.ipynb#X30sZmlsZQ%3D%3D?line=38'>39</a>\u001b[0m train_dataloader \u001b[39m=\u001b[39m DataLoader(training_data, batch_size\u001b[39m=\u001b[39mbatch_size, shuffle\u001b[39m=\u001b[39m\u001b[39mTrue\u001b[39;00m, collate_fn \u001b[39m=\u001b[39m collate_fn_transpose)\n\u001b[0;32m---> <a href='vscode-notebook-cell:/home/cmu/anthony/FaultFormer/FaultFormer/examples.ipynb#X30sZmlsZQ%3D%3D?line=40'>41</a>\u001b[0m pretrain_model(model, params, dataloader\u001b[39m=\u001b[39;49mtrain_dataloader)\n",
      "File \u001b[0;32m~/anthony/FaultFormer/FaultFormer/triplet_pretrain.py:71\u001b[0m, in \u001b[0;36mpretrain_model\u001b[0;34m(model, params, dataloader, optimizer)\u001b[0m\n\u001b[1;32m     68\u001b[0m     file\u001b[39m.\u001b[39mwrite(json\u001b[39m.\u001b[39mdumps(params))\n\u001b[1;32m     70\u001b[0m \u001b[39mfor\u001b[39;00m epoch \u001b[39min\u001b[39;00m \u001b[39mrange\u001b[39m(\u001b[39m1\u001b[39m, epochs \u001b[39m+\u001b[39m \u001b[39m1\u001b[39m):\n\u001b[0;32m---> 71\u001b[0m     loss \u001b[39m=\u001b[39m train(model \u001b[39m=\u001b[39;49m model, \n\u001b[1;32m     72\u001b[0m                 dataloader \u001b[39m=\u001b[39;49m dataloader)\n\u001b[1;32m     74\u001b[0m     \u001b[39mif\u001b[39;00m loss \u001b[39m<\u001b[39m best_loss:\n\u001b[1;32m     75\u001b[0m         best_loss \u001b[39m=\u001b[39m loss\n",
      "File \u001b[0;32m~/anthony/FaultFormer/FaultFormer/triplet_pretrain.py:33\u001b[0m, in \u001b[0;36mpretrain_model.<locals>.train\u001b[0;34m(model, dataloader)\u001b[0m\n\u001b[1;32m     30\u001b[0m model\u001b[39m.\u001b[39mtrain() \n\u001b[1;32m     31\u001b[0m total_loss \u001b[39m=\u001b[39m \u001b[39m0.\u001b[39m\n\u001b[0;32m---> 33\u001b[0m \u001b[39mfor\u001b[39;00m (batch, labels) \u001b[39min\u001b[39;00m tqdm(dataloader, desc\u001b[39m=\u001b[39m\u001b[39mf\u001b[39m\u001b[39m\"\u001b[39m\u001b[39mTraining Epoch [\u001b[39m\u001b[39m{\u001b[39;00mepoch\u001b[39m}\u001b[39;00m\u001b[39m/\u001b[39m\u001b[39m{\u001b[39;00mepochs\u001b[39m}\u001b[39;00m\u001b[39m]\u001b[39m\u001b[39m\"\u001b[39m):\n\u001b[1;32m     34\u001b[0m     batch, labels \u001b[39m=\u001b[39m batch\u001b[39m.\u001b[39mcuda(), labels\u001b[39m.\u001b[39mcuda()\n\u001b[1;32m     36\u001b[0m     embeddings \u001b[39m=\u001b[39m model(batch)\n",
      "File \u001b[0;32m~/anaconda3/envs/fault/lib/python3.9/site-packages/tqdm/std.py:1182\u001b[0m, in \u001b[0;36mtqdm.__iter__\u001b[0;34m(self)\u001b[0m\n\u001b[1;32m   1179\u001b[0m time \u001b[39m=\u001b[39m \u001b[39mself\u001b[39m\u001b[39m.\u001b[39m_time\n\u001b[1;32m   1181\u001b[0m \u001b[39mtry\u001b[39;00m:\n\u001b[0;32m-> 1182\u001b[0m     \u001b[39mfor\u001b[39;00m obj \u001b[39min\u001b[39;00m iterable:\n\u001b[1;32m   1183\u001b[0m         \u001b[39myield\u001b[39;00m obj\n\u001b[1;32m   1184\u001b[0m         \u001b[39m# Update and possibly print the progressbar.\u001b[39;00m\n\u001b[1;32m   1185\u001b[0m         \u001b[39m# Note: does not call self.update(1) for speed optimisation.\u001b[39;00m\n",
      "File \u001b[0;32m~/anaconda3/envs/fault/lib/python3.9/site-packages/torch/utils/data/dataloader.py:681\u001b[0m, in \u001b[0;36m_BaseDataLoaderIter.__next__\u001b[0;34m(self)\u001b[0m\n\u001b[1;32m    678\u001b[0m \u001b[39mif\u001b[39;00m \u001b[39mself\u001b[39m\u001b[39m.\u001b[39m_sampler_iter \u001b[39mis\u001b[39;00m \u001b[39mNone\u001b[39;00m:\n\u001b[1;32m    679\u001b[0m     \u001b[39m# TODO(https://github.com/pytorch/pytorch/issues/76750)\u001b[39;00m\n\u001b[1;32m    680\u001b[0m     \u001b[39mself\u001b[39m\u001b[39m.\u001b[39m_reset()  \u001b[39m# type: ignore[call-arg]\u001b[39;00m\n\u001b[0;32m--> 681\u001b[0m data \u001b[39m=\u001b[39m \u001b[39mself\u001b[39;49m\u001b[39m.\u001b[39;49m_next_data()\n\u001b[1;32m    682\u001b[0m \u001b[39mself\u001b[39m\u001b[39m.\u001b[39m_num_yielded \u001b[39m+\u001b[39m\u001b[39m=\u001b[39m \u001b[39m1\u001b[39m\n\u001b[1;32m    683\u001b[0m \u001b[39mif\u001b[39;00m \u001b[39mself\u001b[39m\u001b[39m.\u001b[39m_dataset_kind \u001b[39m==\u001b[39m _DatasetKind\u001b[39m.\u001b[39mIterable \u001b[39mand\u001b[39;00m \\\n\u001b[1;32m    684\u001b[0m         \u001b[39mself\u001b[39m\u001b[39m.\u001b[39m_IterableDataset_len_called \u001b[39mis\u001b[39;00m \u001b[39mnot\u001b[39;00m \u001b[39mNone\u001b[39;00m \u001b[39mand\u001b[39;00m \\\n\u001b[1;32m    685\u001b[0m         \u001b[39mself\u001b[39m\u001b[39m.\u001b[39m_num_yielded \u001b[39m>\u001b[39m \u001b[39mself\u001b[39m\u001b[39m.\u001b[39m_IterableDataset_len_called:\n",
      "File \u001b[0;32m~/anaconda3/envs/fault/lib/python3.9/site-packages/torch/utils/data/dataloader.py:721\u001b[0m, in \u001b[0;36m_SingleProcessDataLoaderIter._next_data\u001b[0;34m(self)\u001b[0m\n\u001b[1;32m    719\u001b[0m \u001b[39mdef\u001b[39;00m \u001b[39m_next_data\u001b[39m(\u001b[39mself\u001b[39m):\n\u001b[1;32m    720\u001b[0m     index \u001b[39m=\u001b[39m \u001b[39mself\u001b[39m\u001b[39m.\u001b[39m_next_index()  \u001b[39m# may raise StopIteration\u001b[39;00m\n\u001b[0;32m--> 721\u001b[0m     data \u001b[39m=\u001b[39m \u001b[39mself\u001b[39;49m\u001b[39m.\u001b[39;49m_dataset_fetcher\u001b[39m.\u001b[39;49mfetch(index)  \u001b[39m# may raise StopIteration\u001b[39;00m\n\u001b[1;32m    722\u001b[0m     \u001b[39mif\u001b[39;00m \u001b[39mself\u001b[39m\u001b[39m.\u001b[39m_pin_memory:\n\u001b[1;32m    723\u001b[0m         data \u001b[39m=\u001b[39m _utils\u001b[39m.\u001b[39mpin_memory\u001b[39m.\u001b[39mpin_memory(data, \u001b[39mself\u001b[39m\u001b[39m.\u001b[39m_pin_memory_device)\n",
      "File \u001b[0;32m~/anaconda3/envs/fault/lib/python3.9/site-packages/torch/utils/data/_utils/fetch.py:49\u001b[0m, in \u001b[0;36m_MapDatasetFetcher.fetch\u001b[0;34m(self, possibly_batched_index)\u001b[0m\n\u001b[1;32m     47\u001b[0m \u001b[39mdef\u001b[39;00m \u001b[39mfetch\u001b[39m(\u001b[39mself\u001b[39m, possibly_batched_index):\n\u001b[1;32m     48\u001b[0m     \u001b[39mif\u001b[39;00m \u001b[39mself\u001b[39m\u001b[39m.\u001b[39mauto_collation:\n\u001b[0;32m---> 49\u001b[0m         data \u001b[39m=\u001b[39m [\u001b[39mself\u001b[39m\u001b[39m.\u001b[39mdataset[idx] \u001b[39mfor\u001b[39;00m idx \u001b[39min\u001b[39;00m possibly_batched_index]\n\u001b[1;32m     50\u001b[0m     \u001b[39melse\u001b[39;00m:\n\u001b[1;32m     51\u001b[0m         data \u001b[39m=\u001b[39m \u001b[39mself\u001b[39m\u001b[39m.\u001b[39mdataset[possibly_batched_index]\n",
      "File \u001b[0;32m~/anaconda3/envs/fault/lib/python3.9/site-packages/torch/utils/data/_utils/fetch.py:49\u001b[0m, in \u001b[0;36m<listcomp>\u001b[0;34m(.0)\u001b[0m\n\u001b[1;32m     47\u001b[0m \u001b[39mdef\u001b[39;00m \u001b[39mfetch\u001b[39m(\u001b[39mself\u001b[39m, possibly_batched_index):\n\u001b[1;32m     48\u001b[0m     \u001b[39mif\u001b[39;00m \u001b[39mself\u001b[39m\u001b[39m.\u001b[39mauto_collation:\n\u001b[0;32m---> 49\u001b[0m         data \u001b[39m=\u001b[39m [\u001b[39mself\u001b[39;49m\u001b[39m.\u001b[39;49mdataset[idx] \u001b[39mfor\u001b[39;00m idx \u001b[39min\u001b[39;00m possibly_batched_index]\n\u001b[1;32m     50\u001b[0m     \u001b[39melse\u001b[39;00m:\n\u001b[1;32m     51\u001b[0m         data \u001b[39m=\u001b[39m \u001b[39mself\u001b[39m\u001b[39m.\u001b[39mdataset[possibly_batched_index]\n",
      "File \u001b[0;32m~/anthony/FaultFormer/FaultFormer/datasets.py:74\u001b[0m, in \u001b[0;36mAugmentedDataset.__getitem__\u001b[0;34m(self, idx)\u001b[0m\n\u001b[1;32m     71\u001b[0m                 x \u001b[39m=\u001b[39m crop(gaussian_noise(x))\n\u001b[1;32m     73\u001b[0m \u001b[39mif\u001b[39;00m(\u001b[39mself\u001b[39m\u001b[39m.\u001b[39mfourier):\n\u001b[0;32m---> 74\u001b[0m     x \u001b[39m=\u001b[39m get_fourier_features(x, k\u001b[39m=\u001b[39;49m\u001b[39m40\u001b[39;49m)\n\u001b[1;32m     75\u001b[0m \u001b[39melse\u001b[39;00m:\n\u001b[1;32m     76\u001b[0m     x \u001b[39m=\u001b[39m signal\u001b[39m.\u001b[39mdecimate(x, \u001b[39m4\u001b[39m)\n",
      "File \u001b[0;32m~/anthony/FaultFormer/FaultFormer/utils.py:188\u001b[0m, in \u001b[0;36mget_fourier_features\u001b[0;34m(data, k)\u001b[0m\n\u001b[1;32m    186\u001b[0m data_spectral \u001b[39m=\u001b[39m torch\u001b[39m.\u001b[39mfft\u001b[39m.\u001b[39mrfft(data)\n\u001b[1;32m    187\u001b[0m freqs \u001b[39m=\u001b[39m torch\u001b[39m.\u001b[39mfft\u001b[39m.\u001b[39mrfftfreq(\u001b[39mlen\u001b[39m(data))\n\u001b[0;32m--> 188\u001b[0m mag \u001b[39m=\u001b[39m complex_mag(data_spectral)\n\u001b[1;32m    190\u001b[0m max_amp, max_idx \u001b[39m=\u001b[39m torch\u001b[39m.\u001b[39mtopk(mag, k)\n\u001b[1;32m    192\u001b[0m data_r \u001b[39m=\u001b[39m data_spectral\u001b[39m.\u001b[39mreal\n",
      "File \u001b[0;32m~/anthony/FaultFormer/FaultFormer/utils.py:172\u001b[0m, in \u001b[0;36mcomplex_mag\u001b[0;34m(data)\u001b[0m\n\u001b[1;32m    169\u001b[0m data_r \u001b[39m=\u001b[39m data\u001b[39m.\u001b[39mreal\n\u001b[1;32m    170\u001b[0m data_i \u001b[39m=\u001b[39m data\u001b[39m.\u001b[39mimag\n\u001b[0;32m--> 172\u001b[0m mag \u001b[39m=\u001b[39m torch\u001b[39m.\u001b[39;49msqrt(data_r\u001b[39m*\u001b[39;49mdata_r \u001b[39m+\u001b[39;49m data_i\u001b[39m*\u001b[39;49mdata_i)\n\u001b[1;32m    174\u001b[0m \u001b[39mreturn\u001b[39;00m mag\n",
      "\u001b[0;31mKeyboardInterrupt\u001b[0m: "
     ]
    }
   ],
   "source": [
    "import torch\n",
    "from triplet_pretrain import pretrain_model\n",
    "from datasets import AugmentedDataset\n",
    "from torch.utils.data import DataLoader\n",
    "from utils import collate_fn_transpose\n",
    "from models import TransformerModel_triplet\n",
    "\n",
    "params = {\"batch_size\": 64, \n",
    "        \"epochs\": 500, \n",
    "        \"d_in\": 3, \n",
    "        \"d_model\": 64, \n",
    "        \"nhead\": 16, \n",
    "        \"d_hid\": 128, \n",
    "        \"nlayers\": 4, \n",
    "        \"dropout\": 0.3, \n",
    "        \"warmup\": 4000, \n",
    "        \"seq_len\": 40, \n",
    "        \"margin\": 0.05,\n",
    "        \"d_lin\": 1024,\n",
    "        \"d_out\": 64}\n",
    "\n",
    "model = TransformerModel_triplet(d_in = params[\"d_in\"], \n",
    "                            d_model = params[\"d_model\"], \n",
    "                            nhead = params[\"nhead\"], \n",
    "                            d_hid = params[\"d_hid\"],\n",
    "                            nlayers = params[\"nlayers\"], \n",
    "                            d_lin = params[\"d_lin\"],\n",
    "                            d_out = params[\"d_out\"],\n",
    "                            seq_len = params[\"seq_len\"], \n",
    "                            dropout = params[\"dropout\"])\n",
    "\n",
    "fold = 1\n",
    "train_dir = \"data/5folddata/training_data_\" + str(fold)\n",
    "train_dir_l = \"data/5folddata/training_labels_\" + str(fold)\n",
    "\n",
    "batch_size = params[\"batch_size\"]\n",
    "\n",
    "training_data = AugmentedDataset(data_path=train_dir, label_path=train_dir_l, fourier=True, test=False)\n",
    "train_dataloader = DataLoader(training_data, batch_size=batch_size, shuffle=True, collate_fn = collate_fn_transpose)\n",
    "\n",
    "pretrain_model(model, params, dataloader=train_dataloader)"
   ]
  },
  {
   "cell_type": "markdown",
   "metadata": {},
   "source": [
    "## Loading Pretrained Model\n",
    "If loading a pretrained model for fine-tuning, (i.e. not just inference), also need to load the optimizer state dict and pass to training function."
   ]
  },
  {
   "cell_type": "code",
   "execution_count": 1,
   "metadata": {},
   "outputs": [
    {
     "name": "stderr",
     "output_type": "stream",
     "text": [
      "/home/cmu/anaconda3/envs/fault/lib/python3.9/site-packages/tqdm/auto.py:21: TqdmWarning: IProgress not found. Please update jupyter and ipywidgets. See https://ipywidgets.readthedocs.io/en/stable/user_install.html\n",
      "  from .autonotebook import tqdm as notebook_tqdm\n"
     ]
    },
    {
     "data": {
      "text/plain": [
       "TransformerModel_cls(\n",
       "  (pos_encoder): PositionalEncoding(\n",
       "    (dropout): Dropout(p=0.3, inplace=False)\n",
       "  )\n",
       "  (transformer_encoder): TransformerEncoder(\n",
       "    (layers): ModuleList(\n",
       "      (0): TransformerEncoderLayer(\n",
       "        (self_attn): MultiheadAttention(\n",
       "          (out_proj): NonDynamicallyQuantizableLinear(in_features=140, out_features=140, bias=True)\n",
       "        )\n",
       "        (linear1): Linear(in_features=140, out_features=300, bias=True)\n",
       "        (dropout): Dropout(p=0.3, inplace=False)\n",
       "        (linear2): Linear(in_features=300, out_features=140, bias=True)\n",
       "        (norm1): LayerNorm((140,), eps=1e-05, elementwise_affine=True)\n",
       "        (norm2): LayerNorm((140,), eps=1e-05, elementwise_affine=True)\n",
       "        (dropout1): Dropout(p=0.3, inplace=False)\n",
       "        (dropout2): Dropout(p=0.3, inplace=False)\n",
       "      )\n",
       "      (1): TransformerEncoderLayer(\n",
       "        (self_attn): MultiheadAttention(\n",
       "          (out_proj): NonDynamicallyQuantizableLinear(in_features=140, out_features=140, bias=True)\n",
       "        )\n",
       "        (linear1): Linear(in_features=140, out_features=300, bias=True)\n",
       "        (dropout): Dropout(p=0.3, inplace=False)\n",
       "        (linear2): Linear(in_features=300, out_features=140, bias=True)\n",
       "        (norm1): LayerNorm((140,), eps=1e-05, elementwise_affine=True)\n",
       "        (norm2): LayerNorm((140,), eps=1e-05, elementwise_affine=True)\n",
       "        (dropout1): Dropout(p=0.3, inplace=False)\n",
       "        (dropout2): Dropout(p=0.3, inplace=False)\n",
       "      )\n",
       "      (2): TransformerEncoderLayer(\n",
       "        (self_attn): MultiheadAttention(\n",
       "          (out_proj): NonDynamicallyQuantizableLinear(in_features=140, out_features=140, bias=True)\n",
       "        )\n",
       "        (linear1): Linear(in_features=140, out_features=300, bias=True)\n",
       "        (dropout): Dropout(p=0.3, inplace=False)\n",
       "        (linear2): Linear(in_features=300, out_features=140, bias=True)\n",
       "        (norm1): LayerNorm((140,), eps=1e-05, elementwise_affine=True)\n",
       "        (norm2): LayerNorm((140,), eps=1e-05, elementwise_affine=True)\n",
       "        (dropout1): Dropout(p=0.3, inplace=False)\n",
       "        (dropout2): Dropout(p=0.3, inplace=False)\n",
       "      )\n",
       "      (3): TransformerEncoderLayer(\n",
       "        (self_attn): MultiheadAttention(\n",
       "          (out_proj): NonDynamicallyQuantizableLinear(in_features=140, out_features=140, bias=True)\n",
       "        )\n",
       "        (linear1): Linear(in_features=140, out_features=300, bias=True)\n",
       "        (dropout): Dropout(p=0.3, inplace=False)\n",
       "        (linear2): Linear(in_features=300, out_features=140, bias=True)\n",
       "        (norm1): LayerNorm((140,), eps=1e-05, elementwise_affine=True)\n",
       "        (norm2): LayerNorm((140,), eps=1e-05, elementwise_affine=True)\n",
       "        (dropout1): Dropout(p=0.3, inplace=False)\n",
       "        (dropout2): Dropout(p=0.3, inplace=False)\n",
       "      )\n",
       "      (4): TransformerEncoderLayer(\n",
       "        (self_attn): MultiheadAttention(\n",
       "          (out_proj): NonDynamicallyQuantizableLinear(in_features=140, out_features=140, bias=True)\n",
       "        )\n",
       "        (linear1): Linear(in_features=140, out_features=300, bias=True)\n",
       "        (dropout): Dropout(p=0.3, inplace=False)\n",
       "        (linear2): Linear(in_features=300, out_features=140, bias=True)\n",
       "        (norm1): LayerNorm((140,), eps=1e-05, elementwise_affine=True)\n",
       "        (norm2): LayerNorm((140,), eps=1e-05, elementwise_affine=True)\n",
       "        (dropout1): Dropout(p=0.3, inplace=False)\n",
       "        (dropout2): Dropout(p=0.3, inplace=False)\n",
       "      )\n",
       "      (5): TransformerEncoderLayer(\n",
       "        (self_attn): MultiheadAttention(\n",
       "          (out_proj): NonDynamicallyQuantizableLinear(in_features=140, out_features=140, bias=True)\n",
       "        )\n",
       "        (linear1): Linear(in_features=140, out_features=300, bias=True)\n",
       "        (dropout): Dropout(p=0.3, inplace=False)\n",
       "        (linear2): Linear(in_features=300, out_features=140, bias=True)\n",
       "        (norm1): LayerNorm((140,), eps=1e-05, elementwise_affine=True)\n",
       "        (norm2): LayerNorm((140,), eps=1e-05, elementwise_affine=True)\n",
       "        (dropout1): Dropout(p=0.3, inplace=False)\n",
       "        (dropout2): Dropout(p=0.3, inplace=False)\n",
       "      )\n",
       "    )\n",
       "  )\n",
       "  (embedding): Linear(in_features=3, out_features=140, bias=True)\n",
       "  (classification_layer): Linear(in_features=140, out_features=10, bias=True)\n",
       ")"
      ]
     },
     "execution_count": 1,
     "metadata": {},
     "output_type": "execute_result"
    }
   ],
   "source": [
    "import torch\n",
    "from datasets import AugmentedDataset\n",
    "from torch.utils.data import DataLoader\n",
    "from utils import collate_fn_transpose\n",
    "from models import TransformerModel_cls\n",
    "import seaborn as sns\n",
    "\n",
    "params = {\n",
    "        \"batch_size\": 1024,\n",
    "        \"epochs\": 11000,\n",
    "        \"d_in\": 3,\n",
    "        \"d_model\": 140,\n",
    "        \"nhead\": 20,\n",
    "        \"d_hid\": 300,\n",
    "        \"nlayers\": 6,\n",
    "        \"dropout\": 0.3,\n",
    "        \"warmup\": 4000,\n",
    "        \"seq_len\": 40,\n",
    "        \"d_lin\": 512,\n",
    "        \"d_out\": 64,\n",
    "        \"n_classes\": 10,\n",
    "        \"model\": \"Transformer_cls\",\n",
    "        \"fourier\": True,\n",
    "        \"p_no_aug\": .1,\n",
    "        \"p_two_aug\": .5,\n",
    "    }\n",
    "\n",
    "model = TransformerModel_cls(d_in = params[\"d_in\"], \n",
    "                            d_model = params[\"d_model\"], \n",
    "                            nhead = params[\"nhead\"], \n",
    "                            d_hid = params[\"d_hid\"],\n",
    "                            nlayers = params[\"nlayers\"], \n",
    "                            seq_len = params[\"seq_len\"], \n",
    "                            dropout = params[\"dropout\"])\n",
    "\n",
    "fold = 1\n",
    "test_dir = \"data/5folddata/test_data_\" + str(fold)\n",
    "test_dir_l = \"data/5folddata/test_labels_\" + str(fold)\n",
    "\n",
    "p_no_aug = params[\"p_no_aug\"]\n",
    "p_two_aug = params[\"p_two_aug\"]\n",
    "batch_size = params[\"batch_size\"]\n",
    "\n",
    "test_data = AugmentedDataset(data_path=test_dir, label_path=test_dir_l, fourier=True, test=True)\n",
    "test_dataloader = DataLoader(test_data, batch_size=batch_size, shuffle=False, collate_fn = collate_fn_transpose)\n",
    "\n",
    "x, y = next(iter(test_dataloader))\n",
    "path = \"models/model_trained\"\n",
    "checkpoint = torch.load(path)\n",
    "model.load_state_dict(checkpoint['model_state_dict'])\n",
    "model.eval()"
   ]
  },
  {
   "cell_type": "markdown",
   "metadata": {},
   "source": [
    "## Visualizing Attention"
   ]
  },
  {
   "cell_type": "code",
   "execution_count": 3,
   "metadata": {},
   "outputs": [
    {
     "data": {
      "image/png": "[encoded data removed]",
      "text/plain": [
       "<Figure size 640x480 with 2 Axes>"
      ]
     },
     "metadata": {},
     "output_type": "display_data"
    }
   ],
   "source": [
    "from utils import encoder_forward, visualize_attn\n",
    "\n",
    "x_1 = x[:, 0, :].unsqueeze(1)\n",
    "src = encoder_forward(model, x_1)\n",
    "\n",
    "w0 = model.state_dict()[\"transformer_encoder.layers.0.self_attn.in_proj_weight\"]\n",
    "b0 = model.state_dict()[\"transformer_encoder.layers.0.self_attn.in_proj_bias\"]\n",
    "\n",
    "cls_attn = torch.zeros((20,41))\n",
    "for i in range(20):\n",
    "    attn_scores = visualize_attn(w0, b0, src, i)\n",
    "    cls_attn[i, :] = attn_scores[0, :]\n",
    "layer0_cls_attn = sns.heatmap(cls_attn)"
   ]
  },
  {
   "cell_type": "markdown",
   "metadata": {},
   "source": [
    "## t-SNE Embedding and Confusion Matrix"
   ]
  },
  {
   "cell_type": "code",
   "execution_count": 5,
   "metadata": {},
   "outputs": [],
   "source": [
    "from tsnecuda import TSNE\n",
    "from sklearn.metrics import confusion_matrix\n",
    "\n",
    "x = x.cuda()\n",
    "model.cuda()\n",
    "y_hat = model(x)"
   ]
  },
  {
   "cell_type": "code",
   "execution_count": 9,
   "metadata": {},
   "outputs": [
    {
     "data": {
      "image/png": "[encoded data removed]",
      "text/plain": [
       "<Figure size 640x480 with 2 Axes>"
      ]
     },
     "metadata": {},
     "output_type": "display_data"
    }
   ],
   "source": [
    "m = confusion_matrix(y, torch.argmax(y_hat.detach().cpu(), dim=1))\n",
    "cf_matrix = sns.heatmap(m, annot=True)"
   ]
  },
  {
   "cell_type": "code",
   "execution_count": 16,
   "metadata": {},
   "outputs": [
    {
     "name": "stderr",
     "output_type": "stream",
     "text": [
      "WARNING clustering 560 points to 23 centroids: please provide at least 897 training points\n"
     ]
    }
   ],
   "source": [
    "X_embedded = TSNE(n_components=2, perplexity=15, learning_rate=10).fit_transform(y_hat.detach().cpu())"
   ]
  },
  {
   "cell_type": "code",
   "execution_count": 17,
   "metadata": {},
   "outputs": [
    {
     "data": {
      "image/png": "[encoded data removed]",
      "text/plain": [
       "<Figure size 640x480 with 1 Axes>"
      ]
     },
     "metadata": {},
     "output_type": "display_data"
    }
   ],
   "source": [
    "embed = sns.scatterplot(\n",
    "    x=X_embedded[:,0], y=X_embedded[:,1],\n",
    "    hue=y,\n",
    "    palette=sns.color_palette(),\n",
    "    legend=\"full\",\n",
    "    alpha=0.3\n",
    ")"
   ]
  },
  {
   "cell_type": "markdown",
   "metadata": {},
   "source": [
    "## SNR Accuracy Calculation\n",
    "Need to load data that isn't downsampled, since need to downsample on the fly after applying random noise. Results will vary since random noise is applied. "
   ]
  },
  {
   "cell_type": "code",
   "execution_count": 8,
   "metadata": {},
   "outputs": [],
   "source": [
    "from utils import noisify, fourier_iterate\n",
    "\n",
    "test_data = AugmentedDataset(data_path=test_dir, label_path=test_dir_l, fourier=False, test=True, k=1)\n",
    "test_dataloader = DataLoader(test_data, batch_size=batch_size, shuffle=False, collate_fn = collate_fn_transpose)\n",
    "\n",
    "x, y = next(iter(test_dataloader))\n",
    "x = x.squeeze()\n",
    "x = torch.transpose(x, 0, 1)\n",
    "\n",
    "SNRs = [-4, -2, 0, 2, 4, 6, 8, 10]\n",
    "accs = []\n",
    "model.cuda()\n",
    "\n",
    "for SNR in SNRs:\n",
    "    num_correct = 0\n",
    "    x_noise = noisify(x, SNR)\n",
    "    x_fourier = fourier_iterate(x_noise)\n",
    "    x_fourier = torch.transpose(x_fourier, 0, 1).cuda()\n",
    "    output = model(x_fourier).cpu()\n",
    "    y_hat= torch.argmax(output, dim = 1)\n",
    "    num_correct += (y_hat == y).sum()\n",
    "    acc = num_correct/560\n",
    "    accs.append(acc)"
   ]
  },
  {
   "cell_type": "code",
   "execution_count": 9,
   "metadata": {},
   "outputs": [
    {
     "name": "stdout",
     "output_type": "stream",
     "text": [
      "[tensor(0.7750), tensor(0.8018), tensor(0.8304), tensor(0.8982), tensor(0.9661), tensor(0.9964), tensor(0.9964), tensor(0.9964)]\n"
     ]
    }
   ],
   "source": [
    "print(accs)"
   ]
  }
 ],
 "metadata": {
  "kernelspec": {
   "display_name": "fault",
   "language": "python",
   "name": "python3"
  },
  "language_info": {
   "codemirror_mode": {
    "name": "ipython",
    "version": 3
   },
   "file_extension": ".py",
   "mimetype": "text/x-python",
   "name": "python",
   "nbconvert_exporter": "python",
   "pygments_lexer": "ipython3",
   "version": "3.9.12"
  }
 },
 "nbformat": 4,
 "nbformat_minor": 2
}
